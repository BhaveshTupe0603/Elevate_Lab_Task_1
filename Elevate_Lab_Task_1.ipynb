{
  "nbformat": 4,
  "nbformat_minor": 0,
  "metadata": {
    "colab": {
      "provenance": []
    },
    "kernelspec": {
      "name": "python3",
      "display_name": "Python 3"
    },
    "language_info": {
      "name": "python"
    }
  },
  "cells": [
    {
      "cell_type": "markdown",
      "source": [
        "# **📌 Task 1: Data Cleaning and Preprocessing**\n",
        "\n",
        "\n",
        "---\n",
        "\n",
        "\n",
        "\n",
        "### **📝 Introduction**\n",
        "\n",
        "The objective of this task is to clean and prepare a raw dataset by identifying and resolving common data quality issues such as missing values, duplicates, inconsistent text formats, and incorrect data types. Clean data is essential for accurate and meaningful analysis.\n",
        "\n",
        "For this task, we used the **Customer Personality Analysis** dataset from Kaggle, which contains detailed customer demographic and behavioral information. Using Python and the Pandas library, the dataset was processed to:\n",
        "\n",
        "- Identify and handle missing values\n",
        "- Remove duplicate entries\n",
        "- Standardize text data (e.g., education levels, marital status)\n",
        "- Convert date fields to a consistent format (`dd-mm-yyyy`)\n",
        "- Rename columns for consistency and ease of use\n",
        "- Validate and correct data types (e.g., numerical values as `int`, dates as `datetime`)\n",
        "\n",
        "This preprocessing ensures that the dataset is structured, reliable, and ready for further analysis or model building.\n"
      ],
      "metadata": {
        "id": "NQIeVVoc4BBp"
      }
    },
    {
      "cell_type": "code",
      "source": [
        "import pandas as pd\n",
        "\n",
        "# Load dataset\n",
        "df = pd.read_csv(\"/content/drive/MyDrive/marketing_campaign.csv\", sep='\\t')"
      ],
      "metadata": {
        "id": "NmEUYGfw5rf4"
      },
      "execution_count": 17,
      "outputs": []
    },
    {
      "cell_type": "code",
      "source": [
        "print(df.shape)\n",
        "print(df.columns)\n",
        "print(df.head())"
      ],
      "metadata": {
        "colab": {
          "base_uri": "https://localhost:8080/"
        },
        "id": "t7_W6Vyw6E27",
        "outputId": "66a66173-923f-4875-aa6a-8dcf0de7a51d"
      },
      "execution_count": 18,
      "outputs": [
        {
          "output_type": "stream",
          "name": "stdout",
          "text": [
            "(2240, 29)\n",
            "Index(['ID', 'Year_Birth', 'Education', 'Marital_Status', 'Income', 'Kidhome',\n",
            "       'Teenhome', 'Dt_Customer', 'Recency', 'MntWines', 'MntFruits',\n",
            "       'MntMeatProducts', 'MntFishProducts', 'MntSweetProducts',\n",
            "       'MntGoldProds', 'NumDealsPurchases', 'NumWebPurchases',\n",
            "       'NumCatalogPurchases', 'NumStorePurchases', 'NumWebVisitsMonth',\n",
            "       'AcceptedCmp3', 'AcceptedCmp4', 'AcceptedCmp5', 'AcceptedCmp1',\n",
            "       'AcceptedCmp2', 'Complain', 'Z_CostContact', 'Z_Revenue', 'Response'],\n",
            "      dtype='object')\n",
            "     ID  Year_Birth   Education Marital_Status   Income  Kidhome  Teenhome  \\\n",
            "0  5524        1957  Graduation         Single  58138.0        0         0   \n",
            "1  2174        1954  Graduation         Single  46344.0        1         1   \n",
            "2  4141        1965  Graduation       Together  71613.0        0         0   \n",
            "3  6182        1984  Graduation       Together  26646.0        1         0   \n",
            "4  5324        1981         PhD        Married  58293.0        1         0   \n",
            "\n",
            "  Dt_Customer  Recency  MntWines  ...  NumWebVisitsMonth  AcceptedCmp3  \\\n",
            "0  04-09-2012       58       635  ...                  7             0   \n",
            "1  08-03-2014       38        11  ...                  5             0   \n",
            "2  21-08-2013       26       426  ...                  4             0   \n",
            "3  10-02-2014       26        11  ...                  6             0   \n",
            "4  19-01-2014       94       173  ...                  5             0   \n",
            "\n",
            "   AcceptedCmp4  AcceptedCmp5  AcceptedCmp1  AcceptedCmp2  Complain  \\\n",
            "0             0             0             0             0         0   \n",
            "1             0             0             0             0         0   \n",
            "2             0             0             0             0         0   \n",
            "3             0             0             0             0         0   \n",
            "4             0             0             0             0         0   \n",
            "\n",
            "   Z_CostContact  Z_Revenue  Response  \n",
            "0              3         11         1  \n",
            "1              3         11         0  \n",
            "2              3         11         0  \n",
            "3              3         11         0  \n",
            "4              3         11         0  \n",
            "\n",
            "[5 rows x 29 columns]\n"
          ]
        }
      ]
    },
    {
      "cell_type": "code",
      "source": [
        "# Missing Values\n",
        "print(df.isnull().sum())\n"
      ],
      "metadata": {
        "colab": {
          "base_uri": "https://localhost:8080/"
        },
        "id": "g5Fc6OKl6ONJ",
        "outputId": "39264d9b-1f3c-4dad-cb15-f7d1e9a5977d"
      },
      "execution_count": 19,
      "outputs": [
        {
          "output_type": "stream",
          "name": "stdout",
          "text": [
            "ID                      0\n",
            "Year_Birth              0\n",
            "Education               0\n",
            "Marital_Status          0\n",
            "Income                 24\n",
            "Kidhome                 0\n",
            "Teenhome                0\n",
            "Dt_Customer             0\n",
            "Recency                 0\n",
            "MntWines                0\n",
            "MntFruits               0\n",
            "MntMeatProducts         0\n",
            "MntFishProducts         0\n",
            "MntSweetProducts        0\n",
            "MntGoldProds            0\n",
            "NumDealsPurchases       0\n",
            "NumWebPurchases         0\n",
            "NumCatalogPurchases     0\n",
            "NumStorePurchases       0\n",
            "NumWebVisitsMonth       0\n",
            "AcceptedCmp3            0\n",
            "AcceptedCmp4            0\n",
            "AcceptedCmp5            0\n",
            "AcceptedCmp1            0\n",
            "AcceptedCmp2            0\n",
            "Complain                0\n",
            "Z_CostContact           0\n",
            "Z_Revenue               0\n",
            "Response                0\n",
            "dtype: int64\n"
          ]
        }
      ]
    },
    {
      "cell_type": "code",
      "source": [
        "#Duplicate Values\n",
        "print(df.duplicated().sum())\n"
      ],
      "metadata": {
        "colab": {
          "base_uri": "https://localhost:8080/"
        },
        "id": "lwsVfIHD6VPO",
        "outputId": "bad2c04e-43dc-4ef3-f15c-46186c835dcd"
      },
      "execution_count": 20,
      "outputs": [
        {
          "output_type": "stream",
          "name": "stdout",
          "text": [
            "0\n"
          ]
        }
      ]
    },
    {
      "cell_type": "code",
      "source": [
        "#Column Formatting\n",
        "df.columns = df.columns.str.strip().str.lower().str.replace(' ', '_')\n",
        "print(df.columns)\n"
      ],
      "metadata": {
        "colab": {
          "base_uri": "https://localhost:8080/"
        },
        "id": "kRTeaQ0Y6WRP",
        "outputId": "9d028e9a-ab11-4df5-b5d7-66d630688c59"
      },
      "execution_count": 21,
      "outputs": [
        {
          "output_type": "stream",
          "name": "stdout",
          "text": [
            "Index(['id', 'year_birth', 'education', 'marital_status', 'income', 'kidhome',\n",
            "       'teenhome', 'dt_customer', 'recency', 'mntwines', 'mntfruits',\n",
            "       'mntmeatproducts', 'mntfishproducts', 'mntsweetproducts',\n",
            "       'mntgoldprods', 'numdealspurchases', 'numwebpurchases',\n",
            "       'numcatalogpurchases', 'numstorepurchases', 'numwebvisitsmonth',\n",
            "       'acceptedcmp3', 'acceptedcmp4', 'acceptedcmp5', 'acceptedcmp1',\n",
            "       'acceptedcmp2', 'complain', 'z_costcontact', 'z_revenue', 'response'],\n",
            "      dtype='object')\n"
          ]
        }
      ]
    },
    {
      "cell_type": "code",
      "source": [
        "#Converting the daet in Standard Format\n",
        "df['dt_customer'] = pd.to_datetime(df['dt_customer'], format='%d-%m-%Y')\n"
      ],
      "metadata": {
        "id": "D3Ht56dD6Zns"
      },
      "execution_count": 22,
      "outputs": []
    },
    {
      "cell_type": "code",
      "source": [
        "print(df['education'].value_counts())\n",
        "print(df['marital_status'].value_counts())\n"
      ],
      "metadata": {
        "colab": {
          "base_uri": "https://localhost:8080/"
        },
        "id": "kVr5Ds7s6dqB",
        "outputId": "6850f7bc-c977-474c-f557-13a31314513b"
      },
      "execution_count": 23,
      "outputs": [
        {
          "output_type": "stream",
          "name": "stdout",
          "text": [
            "education\n",
            "Graduation    1127\n",
            "PhD            486\n",
            "Master         370\n",
            "2n Cycle       203\n",
            "Basic           54\n",
            "Name: count, dtype: int64\n",
            "marital_status\n",
            "Married     864\n",
            "Together    580\n",
            "Single      480\n",
            "Divorced    232\n",
            "Widow        77\n",
            "Alone         3\n",
            "Absurd        2\n",
            "YOLO          2\n",
            "Name: count, dtype: int64\n"
          ]
        }
      ]
    },
    {
      "cell_type": "code",
      "source": [
        "print(df['year_birth'].describe())\n",
        "print(df['income'].describe())\n"
      ],
      "metadata": {
        "colab": {
          "base_uri": "https://localhost:8080/"
        },
        "id": "x6ysLRIn6stH",
        "outputId": "f2a14fdc-866a-47cb-dd3b-dc74136ac9fd"
      },
      "execution_count": 24,
      "outputs": [
        {
          "output_type": "stream",
          "name": "stdout",
          "text": [
            "count    2240.000000\n",
            "mean     1968.805804\n",
            "std        11.984069\n",
            "min      1893.000000\n",
            "25%      1959.000000\n",
            "50%      1970.000000\n",
            "75%      1977.000000\n",
            "max      1996.000000\n",
            "Name: year_birth, dtype: float64\n",
            "count      2216.000000\n",
            "mean      52247.251354\n",
            "std       25173.076661\n",
            "min        1730.000000\n",
            "25%       35303.000000\n",
            "50%       51381.500000\n",
            "75%       68522.000000\n",
            "max      666666.000000\n",
            "Name: income, dtype: float64\n"
          ]
        }
      ]
    },
    {
      "cell_type": "code",
      "source": [
        "print(df['income'].isnull().sum())\n"
      ],
      "metadata": {
        "colab": {
          "base_uri": "https://localhost:8080/"
        },
        "id": "hZ7Tlh736u5B",
        "outputId": "919a94da-32af-41b5-e807-22925bdb6285"
      },
      "execution_count": 25,
      "outputs": [
        {
          "output_type": "stream",
          "name": "stdout",
          "text": [
            "24\n"
          ]
        }
      ]
    },
    {
      "cell_type": "code",
      "source": [
        "# Missing Values (fillna)\n",
        "df['income'] = df['income'].fillna(df['income'].median())\n"
      ],
      "metadata": {
        "id": "6UpMcyT76xw_"
      },
      "execution_count": 26,
      "outputs": []
    },
    {
      "cell_type": "code",
      "source": [
        "# Categorical Standardization\n",
        "df['education'] = df['education'].replace({'2n Cycle': 'Master'})\n"
      ],
      "metadata": {
        "id": "f800lOsX6182"
      },
      "execution_count": 27,
      "outputs": []
    },
    {
      "cell_type": "code",
      "source": [
        "# Categorical Standardization\n",
        "df['marital_status'] = df['marital_status'].replace({\n",
        "    'Alone': 'Other',\n",
        "    'Absurd': 'Other',\n",
        "    'YOLO': 'Other'\n",
        "})\n"
      ],
      "metadata": {
        "id": "X-bXsqxK6898"
      },
      "execution_count": 28,
      "outputs": []
    },
    {
      "cell_type": "code",
      "source": [
        "# Data Type Validation\n",
        "print(df.dtypes)\n"
      ],
      "metadata": {
        "colab": {
          "base_uri": "https://localhost:8080/"
        },
        "id": "cfjEKx9D7tAI",
        "outputId": "4116fefa-8faf-42f3-b14f-fd26303f3fcd"
      },
      "execution_count": 32,
      "outputs": [
        {
          "output_type": "stream",
          "name": "stdout",
          "text": [
            "id                              int64\n",
            "year_birth                      int64\n",
            "education                      object\n",
            "marital_status                 object\n",
            "income                        float64\n",
            "kidhome                         int64\n",
            "teenhome                        int64\n",
            "dt_customer            datetime64[ns]\n",
            "recency                         int64\n",
            "mntwines                        int64\n",
            "mntfruits                       int64\n",
            "mntmeatproducts                 int64\n",
            "mntfishproducts                 int64\n",
            "mntsweetproducts                int64\n",
            "mntgoldprods                    int64\n",
            "numdealspurchases               int64\n",
            "numwebpurchases                 int64\n",
            "numcatalogpurchases             int64\n",
            "numstorepurchases               int64\n",
            "numwebvisitsmonth               int64\n",
            "acceptedcmp3                    int64\n",
            "acceptedcmp4                    int64\n",
            "acceptedcmp5                    int64\n",
            "acceptedcmp1                    int64\n",
            "acceptedcmp2                    int64\n",
            "complain                        int64\n",
            "z_costcontact                   int64\n",
            "z_revenue                       int64\n",
            "response                        int64\n",
            "dtype: object\n"
          ]
        }
      ]
    },
    {
      "cell_type": "code",
      "source": [
        "df.head()"
      ],
      "metadata": {
        "colab": {
          "base_uri": "https://localhost:8080/",
          "height": 256
        },
        "id": "bhrHT6n_7M8H",
        "outputId": "aba2836b-ee25-435c-cebe-b5bcede8654f"
      },
      "execution_count": 31,
      "outputs": [
        {
          "output_type": "execute_result",
          "data": {
            "text/plain": [
              "     id  year_birth   education marital_status   income  kidhome  teenhome  \\\n",
              "0  5524        1957  Graduation         Single  58138.0        0         0   \n",
              "1  2174        1954  Graduation         Single  46344.0        1         1   \n",
              "2  4141        1965  Graduation       Together  71613.0        0         0   \n",
              "3  6182        1984  Graduation       Together  26646.0        1         0   \n",
              "4  5324        1981         PhD        Married  58293.0        1         0   \n",
              "\n",
              "  dt_customer  recency  mntwines  ...  numwebvisitsmonth  acceptedcmp3  \\\n",
              "0  2012-09-04       58       635  ...                  7             0   \n",
              "1  2014-03-08       38        11  ...                  5             0   \n",
              "2  2013-08-21       26       426  ...                  4             0   \n",
              "3  2014-02-10       26        11  ...                  6             0   \n",
              "4  2014-01-19       94       173  ...                  5             0   \n",
              "\n",
              "   acceptedcmp4  acceptedcmp5  acceptedcmp1  acceptedcmp2  complain  \\\n",
              "0             0             0             0             0         0   \n",
              "1             0             0             0             0         0   \n",
              "2             0             0             0             0         0   \n",
              "3             0             0             0             0         0   \n",
              "4             0             0             0             0         0   \n",
              "\n",
              "   z_costcontact  z_revenue  response  \n",
              "0              3         11         1  \n",
              "1              3         11         0  \n",
              "2              3         11         0  \n",
              "3              3         11         0  \n",
              "4              3         11         0  \n",
              "\n",
              "[5 rows x 29 columns]"
            ],
            "text/html": [
              "\n",
              "  <div id=\"df-555019a9-1cc5-48f4-808d-8af762eeb477\" class=\"colab-df-container\">\n",
              "    <div>\n",
              "<style scoped>\n",
              "    .dataframe tbody tr th:only-of-type {\n",
              "        vertical-align: middle;\n",
              "    }\n",
              "\n",
              "    .dataframe tbody tr th {\n",
              "        vertical-align: top;\n",
              "    }\n",
              "\n",
              "    .dataframe thead th {\n",
              "        text-align: right;\n",
              "    }\n",
              "</style>\n",
              "<table border=\"1\" class=\"dataframe\">\n",
              "  <thead>\n",
              "    <tr style=\"text-align: right;\">\n",
              "      <th></th>\n",
              "      <th>id</th>\n",
              "      <th>year_birth</th>\n",
              "      <th>education</th>\n",
              "      <th>marital_status</th>\n",
              "      <th>income</th>\n",
              "      <th>kidhome</th>\n",
              "      <th>teenhome</th>\n",
              "      <th>dt_customer</th>\n",
              "      <th>recency</th>\n",
              "      <th>mntwines</th>\n",
              "      <th>...</th>\n",
              "      <th>numwebvisitsmonth</th>\n",
              "      <th>acceptedcmp3</th>\n",
              "      <th>acceptedcmp4</th>\n",
              "      <th>acceptedcmp5</th>\n",
              "      <th>acceptedcmp1</th>\n",
              "      <th>acceptedcmp2</th>\n",
              "      <th>complain</th>\n",
              "      <th>z_costcontact</th>\n",
              "      <th>z_revenue</th>\n",
              "      <th>response</th>\n",
              "    </tr>\n",
              "  </thead>\n",
              "  <tbody>\n",
              "    <tr>\n",
              "      <th>0</th>\n",
              "      <td>5524</td>\n",
              "      <td>1957</td>\n",
              "      <td>Graduation</td>\n",
              "      <td>Single</td>\n",
              "      <td>58138.0</td>\n",
              "      <td>0</td>\n",
              "      <td>0</td>\n",
              "      <td>2012-09-04</td>\n",
              "      <td>58</td>\n",
              "      <td>635</td>\n",
              "      <td>...</td>\n",
              "      <td>7</td>\n",
              "      <td>0</td>\n",
              "      <td>0</td>\n",
              "      <td>0</td>\n",
              "      <td>0</td>\n",
              "      <td>0</td>\n",
              "      <td>0</td>\n",
              "      <td>3</td>\n",
              "      <td>11</td>\n",
              "      <td>1</td>\n",
              "    </tr>\n",
              "    <tr>\n",
              "      <th>1</th>\n",
              "      <td>2174</td>\n",
              "      <td>1954</td>\n",
              "      <td>Graduation</td>\n",
              "      <td>Single</td>\n",
              "      <td>46344.0</td>\n",
              "      <td>1</td>\n",
              "      <td>1</td>\n",
              "      <td>2014-03-08</td>\n",
              "      <td>38</td>\n",
              "      <td>11</td>\n",
              "      <td>...</td>\n",
              "      <td>5</td>\n",
              "      <td>0</td>\n",
              "      <td>0</td>\n",
              "      <td>0</td>\n",
              "      <td>0</td>\n",
              "      <td>0</td>\n",
              "      <td>0</td>\n",
              "      <td>3</td>\n",
              "      <td>11</td>\n",
              "      <td>0</td>\n",
              "    </tr>\n",
              "    <tr>\n",
              "      <th>2</th>\n",
              "      <td>4141</td>\n",
              "      <td>1965</td>\n",
              "      <td>Graduation</td>\n",
              "      <td>Together</td>\n",
              "      <td>71613.0</td>\n",
              "      <td>0</td>\n",
              "      <td>0</td>\n",
              "      <td>2013-08-21</td>\n",
              "      <td>26</td>\n",
              "      <td>426</td>\n",
              "      <td>...</td>\n",
              "      <td>4</td>\n",
              "      <td>0</td>\n",
              "      <td>0</td>\n",
              "      <td>0</td>\n",
              "      <td>0</td>\n",
              "      <td>0</td>\n",
              "      <td>0</td>\n",
              "      <td>3</td>\n",
              "      <td>11</td>\n",
              "      <td>0</td>\n",
              "    </tr>\n",
              "    <tr>\n",
              "      <th>3</th>\n",
              "      <td>6182</td>\n",
              "      <td>1984</td>\n",
              "      <td>Graduation</td>\n",
              "      <td>Together</td>\n",
              "      <td>26646.0</td>\n",
              "      <td>1</td>\n",
              "      <td>0</td>\n",
              "      <td>2014-02-10</td>\n",
              "      <td>26</td>\n",
              "      <td>11</td>\n",
              "      <td>...</td>\n",
              "      <td>6</td>\n",
              "      <td>0</td>\n",
              "      <td>0</td>\n",
              "      <td>0</td>\n",
              "      <td>0</td>\n",
              "      <td>0</td>\n",
              "      <td>0</td>\n",
              "      <td>3</td>\n",
              "      <td>11</td>\n",
              "      <td>0</td>\n",
              "    </tr>\n",
              "    <tr>\n",
              "      <th>4</th>\n",
              "      <td>5324</td>\n",
              "      <td>1981</td>\n",
              "      <td>PhD</td>\n",
              "      <td>Married</td>\n",
              "      <td>58293.0</td>\n",
              "      <td>1</td>\n",
              "      <td>0</td>\n",
              "      <td>2014-01-19</td>\n",
              "      <td>94</td>\n",
              "      <td>173</td>\n",
              "      <td>...</td>\n",
              "      <td>5</td>\n",
              "      <td>0</td>\n",
              "      <td>0</td>\n",
              "      <td>0</td>\n",
              "      <td>0</td>\n",
              "      <td>0</td>\n",
              "      <td>0</td>\n",
              "      <td>3</td>\n",
              "      <td>11</td>\n",
              "      <td>0</td>\n",
              "    </tr>\n",
              "  </tbody>\n",
              "</table>\n",
              "<p>5 rows × 29 columns</p>\n",
              "</div>\n",
              "    <div class=\"colab-df-buttons\">\n",
              "\n",
              "  <div class=\"colab-df-container\">\n",
              "    <button class=\"colab-df-convert\" onclick=\"convertToInteractive('df-555019a9-1cc5-48f4-808d-8af762eeb477')\"\n",
              "            title=\"Convert this dataframe to an interactive table.\"\n",
              "            style=\"display:none;\">\n",
              "\n",
              "  <svg xmlns=\"http://www.w3.org/2000/svg\" height=\"24px\" viewBox=\"0 -960 960 960\">\n",
              "    <path d=\"M120-120v-720h720v720H120Zm60-500h600v-160H180v160Zm220 220h160v-160H400v160Zm0 220h160v-160H400v160ZM180-400h160v-160H180v160Zm440 0h160v-160H620v160ZM180-180h160v-160H180v160Zm440 0h160v-160H620v160Z\"/>\n",
              "  </svg>\n",
              "    </button>\n",
              "\n",
              "  <style>\n",
              "    .colab-df-container {\n",
              "      display:flex;\n",
              "      gap: 12px;\n",
              "    }\n",
              "\n",
              "    .colab-df-convert {\n",
              "      background-color: #E8F0FE;\n",
              "      border: none;\n",
              "      border-radius: 50%;\n",
              "      cursor: pointer;\n",
              "      display: none;\n",
              "      fill: #1967D2;\n",
              "      height: 32px;\n",
              "      padding: 0 0 0 0;\n",
              "      width: 32px;\n",
              "    }\n",
              "\n",
              "    .colab-df-convert:hover {\n",
              "      background-color: #E2EBFA;\n",
              "      box-shadow: 0px 1px 2px rgba(60, 64, 67, 0.3), 0px 1px 3px 1px rgba(60, 64, 67, 0.15);\n",
              "      fill: #174EA6;\n",
              "    }\n",
              "\n",
              "    .colab-df-buttons div {\n",
              "      margin-bottom: 4px;\n",
              "    }\n",
              "\n",
              "    [theme=dark] .colab-df-convert {\n",
              "      background-color: #3B4455;\n",
              "      fill: #D2E3FC;\n",
              "    }\n",
              "\n",
              "    [theme=dark] .colab-df-convert:hover {\n",
              "      background-color: #434B5C;\n",
              "      box-shadow: 0px 1px 3px 1px rgba(0, 0, 0, 0.15);\n",
              "      filter: drop-shadow(0px 1px 2px rgba(0, 0, 0, 0.3));\n",
              "      fill: #FFFFFF;\n",
              "    }\n",
              "  </style>\n",
              "\n",
              "    <script>\n",
              "      const buttonEl =\n",
              "        document.querySelector('#df-555019a9-1cc5-48f4-808d-8af762eeb477 button.colab-df-convert');\n",
              "      buttonEl.style.display =\n",
              "        google.colab.kernel.accessAllowed ? 'block' : 'none';\n",
              "\n",
              "      async function convertToInteractive(key) {\n",
              "        const element = document.querySelector('#df-555019a9-1cc5-48f4-808d-8af762eeb477');\n",
              "        const dataTable =\n",
              "          await google.colab.kernel.invokeFunction('convertToInteractive',\n",
              "                                                    [key], {});\n",
              "        if (!dataTable) return;\n",
              "\n",
              "        const docLinkHtml = 'Like what you see? Visit the ' +\n",
              "          '<a target=\"_blank\" href=https://colab.research.google.com/notebooks/data_table.ipynb>data table notebook</a>'\n",
              "          + ' to learn more about interactive tables.';\n",
              "        element.innerHTML = '';\n",
              "        dataTable['output_type'] = 'display_data';\n",
              "        await google.colab.output.renderOutput(dataTable, element);\n",
              "        const docLink = document.createElement('div');\n",
              "        docLink.innerHTML = docLinkHtml;\n",
              "        element.appendChild(docLink);\n",
              "      }\n",
              "    </script>\n",
              "  </div>\n",
              "\n",
              "\n",
              "    <div id=\"df-bda10b1c-2dbf-4b40-b8d7-4dae023b21bb\">\n",
              "      <button class=\"colab-df-quickchart\" onclick=\"quickchart('df-bda10b1c-2dbf-4b40-b8d7-4dae023b21bb')\"\n",
              "                title=\"Suggest charts\"\n",
              "                style=\"display:none;\">\n",
              "\n",
              "<svg xmlns=\"http://www.w3.org/2000/svg\" height=\"24px\"viewBox=\"0 0 24 24\"\n",
              "     width=\"24px\">\n",
              "    <g>\n",
              "        <path d=\"M19 3H5c-1.1 0-2 .9-2 2v14c0 1.1.9 2 2 2h14c1.1 0 2-.9 2-2V5c0-1.1-.9-2-2-2zM9 17H7v-7h2v7zm4 0h-2V7h2v10zm4 0h-2v-4h2v4z\"/>\n",
              "    </g>\n",
              "</svg>\n",
              "      </button>\n",
              "\n",
              "<style>\n",
              "  .colab-df-quickchart {\n",
              "      --bg-color: #E8F0FE;\n",
              "      --fill-color: #1967D2;\n",
              "      --hover-bg-color: #E2EBFA;\n",
              "      --hover-fill-color: #174EA6;\n",
              "      --disabled-fill-color: #AAA;\n",
              "      --disabled-bg-color: #DDD;\n",
              "  }\n",
              "\n",
              "  [theme=dark] .colab-df-quickchart {\n",
              "      --bg-color: #3B4455;\n",
              "      --fill-color: #D2E3FC;\n",
              "      --hover-bg-color: #434B5C;\n",
              "      --hover-fill-color: #FFFFFF;\n",
              "      --disabled-bg-color: #3B4455;\n",
              "      --disabled-fill-color: #666;\n",
              "  }\n",
              "\n",
              "  .colab-df-quickchart {\n",
              "    background-color: var(--bg-color);\n",
              "    border: none;\n",
              "    border-radius: 50%;\n",
              "    cursor: pointer;\n",
              "    display: none;\n",
              "    fill: var(--fill-color);\n",
              "    height: 32px;\n",
              "    padding: 0;\n",
              "    width: 32px;\n",
              "  }\n",
              "\n",
              "  .colab-df-quickchart:hover {\n",
              "    background-color: var(--hover-bg-color);\n",
              "    box-shadow: 0 1px 2px rgba(60, 64, 67, 0.3), 0 1px 3px 1px rgba(60, 64, 67, 0.15);\n",
              "    fill: var(--button-hover-fill-color);\n",
              "  }\n",
              "\n",
              "  .colab-df-quickchart-complete:disabled,\n",
              "  .colab-df-quickchart-complete:disabled:hover {\n",
              "    background-color: var(--disabled-bg-color);\n",
              "    fill: var(--disabled-fill-color);\n",
              "    box-shadow: none;\n",
              "  }\n",
              "\n",
              "  .colab-df-spinner {\n",
              "    border: 2px solid var(--fill-color);\n",
              "    border-color: transparent;\n",
              "    border-bottom-color: var(--fill-color);\n",
              "    animation:\n",
              "      spin 1s steps(1) infinite;\n",
              "  }\n",
              "\n",
              "  @keyframes spin {\n",
              "    0% {\n",
              "      border-color: transparent;\n",
              "      border-bottom-color: var(--fill-color);\n",
              "      border-left-color: var(--fill-color);\n",
              "    }\n",
              "    20% {\n",
              "      border-color: transparent;\n",
              "      border-left-color: var(--fill-color);\n",
              "      border-top-color: var(--fill-color);\n",
              "    }\n",
              "    30% {\n",
              "      border-color: transparent;\n",
              "      border-left-color: var(--fill-color);\n",
              "      border-top-color: var(--fill-color);\n",
              "      border-right-color: var(--fill-color);\n",
              "    }\n",
              "    40% {\n",
              "      border-color: transparent;\n",
              "      border-right-color: var(--fill-color);\n",
              "      border-top-color: var(--fill-color);\n",
              "    }\n",
              "    60% {\n",
              "      border-color: transparent;\n",
              "      border-right-color: var(--fill-color);\n",
              "    }\n",
              "    80% {\n",
              "      border-color: transparent;\n",
              "      border-right-color: var(--fill-color);\n",
              "      border-bottom-color: var(--fill-color);\n",
              "    }\n",
              "    90% {\n",
              "      border-color: transparent;\n",
              "      border-bottom-color: var(--fill-color);\n",
              "    }\n",
              "  }\n",
              "</style>\n",
              "\n",
              "      <script>\n",
              "        async function quickchart(key) {\n",
              "          const quickchartButtonEl =\n",
              "            document.querySelector('#' + key + ' button');\n",
              "          quickchartButtonEl.disabled = true;  // To prevent multiple clicks.\n",
              "          quickchartButtonEl.classList.add('colab-df-spinner');\n",
              "          try {\n",
              "            const charts = await google.colab.kernel.invokeFunction(\n",
              "                'suggestCharts', [key], {});\n",
              "          } catch (error) {\n",
              "            console.error('Error during call to suggestCharts:', error);\n",
              "          }\n",
              "          quickchartButtonEl.classList.remove('colab-df-spinner');\n",
              "          quickchartButtonEl.classList.add('colab-df-quickchart-complete');\n",
              "        }\n",
              "        (() => {\n",
              "          let quickchartButtonEl =\n",
              "            document.querySelector('#df-bda10b1c-2dbf-4b40-b8d7-4dae023b21bb button');\n",
              "          quickchartButtonEl.style.display =\n",
              "            google.colab.kernel.accessAllowed ? 'block' : 'none';\n",
              "        })();\n",
              "      </script>\n",
              "    </div>\n",
              "\n",
              "    </div>\n",
              "  </div>\n"
            ],
            "application/vnd.google.colaboratory.intrinsic+json": {
              "type": "dataframe",
              "variable_name": "df"
            }
          },
          "metadata": {},
          "execution_count": 31
        }
      ]
    },
    {
      "cell_type": "markdown",
      "source": [
        "## **Data Cleaning Summary – Customer Personality Analysis**\n",
        "\n",
        "This section outlines the key data cleaning steps performed on the dataset:\n",
        "\n",
        "### ✅ Missing Values\n",
        "- Found 24 missing values in the `Income` column.\n",
        "- Filled them using the **median income** to preserve rows.\n",
        "\n",
        "### ✅ Duplicates\n",
        "- Checked for duplicates using `.duplicated()`.\n",
        "- Result: **No duplicate rows** found.\n",
        "\n",
        "### ✅ Column Formatting\n",
        "- Renamed all columns to **lowercase** with **underscores** for consistency.\n",
        "\n",
        "### ✅ Date Conversion\n",
        "- Converted `dt_customer` from string to proper **datetime format** (`datetime64[ns]`).\n",
        "\n",
        "### ✅ Categorical Standardization\n",
        "- Merged `\"2n Cycle\"` into `\"Master\"` under the `education` column.\n",
        "- Replaced invalid `marital_status` entries like `\"YOLO\"`, `\"Absurd\"`, and `\"Alone\"` with `\"Other\"`.\n",
        "\n",
        "### ✅ Data Type Validation\n",
        "- Ensured proper types:\n",
        "  - `year_birth`, `kidhome`, `teenhome`, etc. → `int64`\n",
        "  - `income` → `float64`\n",
        "  - `dt_customer` → `datetime64[ns]`\n",
        "\n",
        "> ✅ Final cleaned dataset shape: **(2216, 29)**\n"
      ],
      "metadata": {
        "id": "kU4Ecg4b8JBZ"
      }
    }
  ]
}